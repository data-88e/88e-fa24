{
 "cells": [
  {
   "cell_type": "markdown",
   "metadata": {},
   "source": [
    "<table style=\"width: 100%;\">\n",
    "    <tr style=\"background-color: transparent;\"><td>\n",
    "        <img src=\"https://data-88e.github.io/assets/images/blue_text.png\" width=\"250px\" style=\"margin-left: 0;\" />\n",
    "    </td><td>\n",
    "        <p style=\"text-align: right; font-size: 10pt;\"><strong>Economic Models</strong>, Fall 2024<br>\n",
    "            Dr. Eric Van Dusen <br>\n",
    "        Kidong Kim</p></td></tr>\n",
    "</table>"
   ]
  },
  {
   "cell_type": "markdown",
   "metadata": {},
   "source": [
    "# Lecture 4: Demand Survey and Surplus #\n",
    "\n",
    "The idea for this demo is to use the student's demand curve to motivate the concept of surplus.\n"
   ]
  },
  {
   "cell_type": "code",
   "execution_count": null,
   "metadata": {},
   "outputs": [],
   "source": [
    "from datascience import *\n",
    "import numpy as np\n",
    "import pandas as pd\n",
    "import matplotlib.pyplot as plt\n",
    "import matplotlib.patches as patches\n",
    "%matplotlib inline\n",
    "\n",
    "import sympy\n",
    "solve = lambda x,y: sympy.solve(x-y)[0] if len(sympy.solve(x-y))==1 else \"Not Single Solution\"\n",
    "\n",
    "from ipywidgets import interact, interactive, fixed, interact_manual\n",
    "import ipywidgets as widgets\n",
    "from IPython.display import display\n",
    "import warnings\n",
    "warnings.filterwarnings(\"ignore\")"
   ]
  },
  {
   "cell_type": "markdown",
   "metadata": {},
   "source": [
    "## Section 1: Market Demand and Consumer Surplus"
   ]
  },
  {
   "cell_type": "markdown",
   "metadata": {},
   "source": [
    "Let's start off with the demand from a student demand survey:\n",
    " - We had 4 \"goods\" and a range of prices available for each good\n",
    " - Students made bids on their willingness to pay for each of the 4 goods\n",
    " - The dataset for Fall 2022 has ~100 observations\n",
    " - This dataset has been exported and we read it in below:"
   ]
  },
  {
   "cell_type": "code",
   "execution_count": null,
   "metadata": {},
   "outputs": [],
   "source": [
    "# sheet_id = \"1jzgX74fgWo91Dyv7SbD4AmSFvUN5APc79BaOENpsyv8\"\n",
    "# sheet_name = \"Form1\"\n",
    "# url = f\"https://docs.google.com/spreadsheets/d/{sheet_id}/gviz/tq?tqx=out:csv&sheet={sheet_name}\"\n",
    "\n",
    "sheet_id = \"1jzgX74fgWo91Dyv7SbD4AmSFvUN5APc79BaOENpsyv8\"\n",
    "sheet_name = \"Form1\"\n",
    "url = f\"https://docs.google.com/spreadsheets/d/{sheet_id}/gviz/tq?tqx=out:csv&sheet={sheet_name}\"\n",
    "\n",
    "\n",
    "df_demand=pd.read_csv(url)\n",
    "\n",
    "DemandTable = Table.from_df(df_demand)\n",
    "DemandTable = DemandTable.drop('Timestamp')\n",
    "DemandTable"
   ]
  },
  {
   "cell_type": "code",
   "execution_count": null,
   "metadata": {},
   "outputs": [],
   "source": [
    "for i in DemandTable.labels:\n",
    "    DemandTable.ihist(i, bins=7);"
   ]
  },
  {
   "cell_type": "markdown",
   "metadata": {},
   "source": [
    "**Let's focus on the burritos first.** How many people are willing to buying a gourment burrito at any given price?   \n",
    "We can assume that a person would be willing to buy the good at a price less than their bid price.  "
   ]
  },
  {
   "cell_type": "code",
   "execution_count": null,
   "metadata": {},
   "outputs": [],
   "source": [
    "BurritosTable = DemandTable.select('Burrito')\n",
    "BurritosTable"
   ]
  },
  {
   "cell_type": "code",
   "execution_count": null,
   "metadata": {},
   "outputs": [],
   "source": [
    "# Count how many people are in each answer pool\n",
    "BurritosTable.group(\"Burrito\")"
   ]
  },
  {
   "cell_type": "code",
   "execution_count": null,
   "metadata": {},
   "outputs": [],
   "source": [
    "# Create a bar plot\n",
    "table = BurritosTable.group(\"Burrito\")\n",
    "\n",
    "def plot_histogram(data, bins, title=\"Title\", x_label = \"Price\", y_label = \"Count\"):\n",
    "    plt.bar(bins, data, edgecolor=\"brown\", align=\"center\", width = 2)\n",
    "    plt.title(title)\n",
    "    plt.xlabel(x_label)\n",
    "    plt.ylabel(y_label)\n",
    "    plt.show()\n",
    "    return \n",
    "\n",
    "burrito_bins = table.column(0) # Select column using method call\n",
    "burrito_data = table['count'] # Select column using indexing\n",
    "burrito_title = \"Demand of Burritos according to different prices\"\n",
    "\n",
    "plot_histogram(burrito_data, burrito_bins, burrito_title)"
   ]
  },
  {
   "cell_type": "markdown",
   "metadata": {},
   "source": [
    "In the visualization above, the height of each bar isn't quite right - someone who is willing to pay \\\\$10 for a burrito will also pay \\\\$2.5 for the same burrito. \n",
    "\n"
   ]
  },
  {
   "cell_type": "code",
   "execution_count": null,
   "metadata": {},
   "outputs": [],
   "source": [
    "Qdemand = np.flip(np.cumsum(np.flip(BurritosTable.group(\"Burrito\").column(\"count\"))))\n",
    "Qdemand"
   ]
  },
  {
   "cell_type": "code",
   "execution_count": null,
   "metadata": {},
   "outputs": [],
   "source": [
    "DemandBurr= Table().with_columns([\n",
    "    'priceBurr', [2.5, 5, 7.5, 10.00, 12.5, 15,17.5, 20], # those are the prices\n",
    "    'Qdemand', Qdemand\n",
    "])\n",
    "DemandBurr"
   ]
  },
  {
   "cell_type": "code",
   "execution_count": null,
   "metadata": {},
   "outputs": [],
   "source": [
    "burrito_Qdemand_bins = DemandBurr.column('priceBurr') # Select column using method call\n",
    "burrito_Qdemand_data = DemandBurr['Qdemand'] # Select column using indexing\n",
    "burrito_Qdemand_title = \"Quantity demanded of Burritos with different prices\"\n",
    "Qdemand_x_label = \"Price of Burrito\"\n",
    "Qdemand_y_label = \"Quantity demanded\"\n",
    "\n",
    "plot_histogram(burrito_Qdemand_data, burrito_Qdemand_bins, burrito_Qdemand_title, Qdemand_x_label, Qdemand_y_label)"
   ]
  },
  {
   "cell_type": "markdown",
   "metadata": {},
   "source": [
    "### Let's take a look at this table and think about the Consumer Surplus\n",
    "\n",
    "First, let's sort the table from the most expensive burritos to the least expensive ones. \n",
    "\n",
    "Then, if the price is \\$10, how many people are willing to pay more than the price? These people would be getting a **surplus** by only having to pay a cheaper price than the one they would be willing to pay."
   ]
  },
  {
   "cell_type": "code",
   "execution_count": null,
   "metadata": {},
   "outputs": [],
   "source": [
    "DemandBurr.sort(\"priceBurr\", descending = True)"
   ]
  },
  {
   "cell_type": "markdown",
   "metadata": {},
   "source": [
    "It looks like \n",
    "- 52 people would have been willing to pay up to \\\\$12.5\n",
    "- 25 people would have been willing to pay up to \\\\$15.0\n",
    "- 8 person would have been willing to pay up to \\\\$17.5\n",
    "- 4 people would have been willing to pay up to \\\\$20.0\n",
    "\n",
    "Let's add up these values"
   ]
  },
  {
   "cell_type": "code",
   "execution_count": null,
   "metadata": {},
   "outputs": [],
   "source": [
    "CS_counting = 52*(12.5-10)+25*(15-10)+8*(17.5-10)+4*(20-10)\n",
    "print('The consumer surplus from counting consumers is', CS_counting)"
   ]
  },
  {
   "cell_type": "code",
   "execution_count": null,
   "metadata": {},
   "outputs": [],
   "source": [
    "# calculate the total consumer surplus given a demand table and the price of the good\n",
    "def consumer_surplus(demand_table, price):\n",
    "    \n",
    "    # only people with a willingness to pay higher than the market price will buy the good\n",
    "    demand_table_in_market = demand_table.where(0, are.above_or_equal_to(price))\n",
    "    \n",
    "    cs = (demand_table_in_market.column(0) - price) * demand_table_in_market.column(1)\n",
    "    total_cs = sum(cs)\n",
    "    \n",
    "    return total_cs"
   ]
  },
  {
   "cell_type": "code",
   "execution_count": null,
   "metadata": {},
   "outputs": [],
   "source": [
    "cs_burrito = consumer_surplus(DemandBurr, 11)\n",
    "print('The consumer surplus from counting consumers is', cs_burrito)"
   ]
  },
  {
   "cell_type": "markdown",
   "metadata": {},
   "source": [
    "How can we visualize the consumer surplus on the demand and supply diagram? We'll start by creating a demand curve first like before. "
   ]
  },
  {
   "cell_type": "code",
   "execution_count": null,
   "metadata": {},
   "outputs": [],
   "source": [
    "DemandBurr.scatter(\"Qdemand\", \"priceBurr\")\n",
    "plt.xlabel('Quantity')\n",
    "plt.ylabel('Price')\n",
    "plt.title('Demand for Gourmet Burrito');"
   ]
  },
  {
   "cell_type": "code",
   "execution_count": null,
   "metadata": {},
   "outputs": [],
   "source": [
    "DemandBurr.plot(\"Qdemand\", \"priceBurr\", linewidth= 3)\n",
    "plt.xlabel('Quantity')\n",
    "plt.ylabel('Price')\n",
    "plt.title('Demand for Gourmet Burrito');"
   ]
  },
  {
   "cell_type": "markdown",
   "metadata": {},
   "source": [
    "Now that we have a demand curve - Let's create for a model that makes a linear approximation like we did in lecture 2. "
   ]
  },
  {
   "cell_type": "code",
   "execution_count": null,
   "metadata": {},
   "outputs": [],
   "source": [
    "DemandGM = np.polyfit(DemandBurr.column(\"Qdemand\"), DemandBurr.column(\"priceBurr\"),1)\n",
    "DemandGM"
   ]
  },
  {
   "cell_type": "code",
   "execution_count": null,
   "metadata": {},
   "outputs": [],
   "source": [
    "burr_slope = DemandGM.item(0)\n",
    "burr_slope"
   ]
  },
  {
   "cell_type": "code",
   "execution_count": null,
   "metadata": {},
   "outputs": [],
   "source": [
    "burr_intercept = DemandGM.item(1)\n",
    "burr_intercept"
   ]
  },
  {
   "cell_type": "code",
   "execution_count": null,
   "metadata": {},
   "outputs": [],
   "source": [
    "# plot the actual demand curve\n",
    "DemandBurr.plot(\"Qdemand\", \"priceBurr\", linewidth=3)\n",
    "\n",
    "# plot the linear approximation\n",
    "burr_quantities = np.arange(0,120,0.01)\n",
    "burr_prices = burr_slope * burr_quantities + burr_intercept\n",
    "plt.plot(burr_quantities, burr_prices, linewidth=3)\n",
    "\n",
    "plt.xlabel('Quantity')\n",
    "plt.ylabel('Price')\n",
    "plt.title('Demand for Burrito');"
   ]
  },
  {
   "cell_type": "markdown",
   "metadata": {},
   "source": [
    "How many people does the model think would buy burritos when its price is \\\\$10? Let's answer this question using sympy. "
   ]
  },
  {
   "cell_type": "code",
   "execution_count": null,
   "metadata": {},
   "outputs": [],
   "source": [
    "# Set up the demand curve expression \n",
    "Q = sympy.Symbol(\"Q\")\n",
    "demand = burr_slope * Q + burr_intercept\n",
    "\n",
    "# Solve for Q_star when price is 10\n",
    "Q_Star = solve(demand, 10)\n",
    "Q_Star"
   ]
  },
  {
   "cell_type": "markdown",
   "metadata": {},
   "source": [
    "Now we will visualize the consumer surplus of the burrito market. "
   ]
  },
  {
   "cell_type": "code",
   "execution_count": null,
   "metadata": {},
   "outputs": [],
   "source": [
    "DemandBurr.plot(\"Qdemand\", \"priceBurr\", linewidth= 3) #Black : Demand for buritto\n",
    "\n",
    "plt.plot(np.arange(0,82,0.01), burr_slope * np.arange(0,82,0.01) + burr_intercept, linewidth= 3) #Blue : \n",
    "\n",
    "price = 10\n",
    "plt.plot([0,Q_Star],[price, price], color = 'r', linewidth= 3) #Red : Price\n",
    "\n",
    "triangle1 = patches.Polygon([[0,10],[Q_Star,10],[0,burr_intercept]],closed=True,color=\"green\") #Consumer surplus\n",
    "currentAxis = plt.gca()\n",
    "currentAxis.add_patch(triangle1)\n",
    "\n",
    "plt.xlabel('Quantity')\n",
    "plt.ylabel('Price')\n",
    "plt.title('Demand for Burrito')\n",
    "\n",
    "burr_price = 10\n",
    "\n",
    "# Code for Slope and Intercept - What are the slope and intercept of the fit line\n",
    "std_units = lambda a: (a - np.mean(a)) / np.std(a)\n",
    "corr = lambda x, y: np.mean(std_units(x) * std_units(y))\n",
    "slope = lambda x, y: corr(x, y) * np.std(y) / np.std(x)\n",
    "intercept = lambda x, y: np.mean(y) - slope(x, y) * np.mean(x)\n",
    "\n",
    "\n",
    "\n",
    "# Sums up the surplus at the give price\n",
    "def surplus(bins, data, price):\n",
    "    #Finding the quatity at the point where red line indicating surplus and blue line indicating the relationship btw quantiy and price.\n",
    "    slope_sur = slope(data, bins)\n",
    "    intercept_sur = intercept(data, bins)\n",
    "    Q = sympy.Symbol(\"Q\")\n",
    "    demand = slope_sur * Q + intercept_sur\n",
    "    Q_Star = solve(demand, price)\n",
    "    \n",
    "    #Sums up the surplus and print it out.\n",
    "    total_surplus = .5 * Q_Star * (intercept_sur - price)\n",
    "    return total_surplus\n",
    "\n",
    "agg_surplus = surplus(DemandBurr[\"priceBurr\"], DemandBurr[\"Qdemand\"], burr_price)\n",
    "print(\"Consumer surplus is equal to green triangle: \" + str(0.5 * (burr_intercept - burr_price) * Q_Star))"
   ]
  },
  {
   "cell_type": "markdown",
   "metadata": {},
   "source": [
    "###  Let's try again for Greek Theater Tickets "
   ]
  },
  {
   "cell_type": "code",
   "execution_count": null,
   "metadata": {},
   "outputs": [],
   "source": [
    "GreekTixTable = DemandTable.select('GreekTix')\n",
    "GreekTixTable"
   ]
  },
  {
   "cell_type": "code",
   "execution_count": null,
   "metadata": {},
   "outputs": [],
   "source": [
    "# apply the same trick to obtain demand at each price\n",
    "Qdemand = np.flip(np.cumsum(np.flip(GreekTixTable.group(\"GreekTix\").column(\"count\"))))"
   ]
  },
  {
   "cell_type": "code",
   "execution_count": null,
   "metadata": {},
   "outputs": [],
   "source": [
    "DemandGreekTix = Table().with_columns([\n",
    "    'priceTix', [25, 50, 75, 100, 125, 150, 175, 200],\n",
    "    'Qdemand', Qdemand\n",
    "])\n",
    "DemandGreekTix"
   ]
  },
  {
   "cell_type": "code",
   "execution_count": null,
   "metadata": {},
   "outputs": [],
   "source": [
    "tix_slope = slope(DemandGreekTix[\"Qdemand\"], DemandGreekTix[\"priceTix\"])\n",
    "tix_intercept = intercept(DemandGreekTix[\"Qdemand\"], DemandGreekTix[\"priceTix\"])\n",
    "tix_slope, tix_intercept"
   ]
  },
  {
   "cell_type": "markdown",
   "metadata": {},
   "source": [
    "How many people does the Model think would buy at \\\\$100? Let's again use sympy. "
   ]
  },
  {
   "cell_type": "code",
   "execution_count": null,
   "metadata": {},
   "outputs": [],
   "source": [
    "solve = lambda x,y: sympy.solve(x-y)[0] if len(sympy.solve(x-y))==1 else \"Not Single Solution\"\n",
    "Q = sympy.Symbol(\"Q\")\n",
    "demand = tix_slope * Q + tix_intercept\n",
    "\n",
    "Q_Star = solve(demand, 100)\n",
    "Q_Star"
   ]
  },
  {
   "cell_type": "markdown",
   "metadata": {},
   "source": [
    "Visualize the consumer surplus for Greek Theater tickets!"
   ]
  },
  {
   "cell_type": "code",
   "execution_count": null,
   "metadata": {},
   "outputs": [],
   "source": [
    "DemandGreekTix.plot(\"Qdemand\", \"priceTix\", linewidth=3, zorder=20) #Black : Demand for Greek Theater\n",
    "\n",
    "triangle1 = patches.Polygon([[0,100],[Q_Star,100],[0,tix_intercept]], closed=True, color=\"green\", zorder=1)\n",
    "currentAxis = plt.gca()\n",
    "currentAxis.add_patch(triangle1)\n",
    "\n",
    "plt.plot(np.arange(0,82,0.01), tix_slope * np.arange(0,82,0.01) + tix_intercept, linewidth= 3, zorder=5) #Blue : Demand\n",
    "\n",
    "price = 100\n",
    "\n",
    "# This line to interactive version\n",
    "plt.plot([0,Q_Star],[price]*2, color = 'r', linewidth= 3, zorder = 10) #Red : Price\n",
    "\n",
    "plt.xlabel('Quantity')\n",
    "plt.ylabel('Price')\n",
    "plt.title('Demand for Greek Theater Tickets');\n",
    "\n",
    "agg_surplus = surplus(DemandGreekTix[\"priceTix\"], DemandGreekTix[\"Qdemand\"], price)\n",
    "print(\"Consumer surplus is equal to green triangle: \" + str(agg_surplus))"
   ]
  },
  {
   "cell_type": "code",
   "execution_count": null,
   "metadata": {},
   "outputs": [],
   "source": []
  }
 ],
 "metadata": {
  "kernelspec": {
   "display_name": "Python 3 (ipykernel)",
   "language": "python",
   "name": "python3"
  },
  "language_info": {
   "codemirror_mode": {
    "name": "ipython",
    "version": 3
   },
   "file_extension": ".py",
   "mimetype": "text/x-python",
   "name": "python",
   "nbconvert_exporter": "python",
   "pygments_lexer": "ipython3",
   "version": "3.11.9"
  }
 },
 "nbformat": 4,
 "nbformat_minor": 4
}
