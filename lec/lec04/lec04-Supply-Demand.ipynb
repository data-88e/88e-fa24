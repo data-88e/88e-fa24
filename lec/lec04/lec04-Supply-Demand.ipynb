{
 "cells": [
  {
   "cell_type": "markdown",
   "metadata": {},
   "source": [
    "<table style=\"width: 100%;\">\n",
    "    <tr style=\"background-color: transparent;\"><td>\n",
    "        <img src=\"https://data-88e.github.io/assets/images/blue_text.png\" width=\"250px\" style=\"margin-left: 0;\" />\n",
    "    </td><td>\n",
    "        <p style=\"text-align: right; font-size: 10pt;\"><strong>Economic Models</strong>, Fall 2024<br>\n",
    "            Dr. Eric Van Dusen <br>\n",
    "        </p></td></tr>\n",
    "</table>"
   ]
  },
  {
   "cell_type": "code",
   "execution_count": 62,
   "metadata": {
    "tags": []
   },
   "outputs": [],
   "source": [
    "import sympy\n",
    "solve = lambda x,y: sympy.solve(x-y)[0] if len(sympy.solve(x-y))==1 else \"Not Single Solution\"\n",
    "import matplotlib.pyplot as plt\n",
    "plt.style.use('ggplot')\n",
    "%matplotlib inline\n",
    "\n",
    "from ipywidgets import interact, interactive, fixed, interact_manual\n",
    "import ipywidgets as widgets\n",
    "from IPython.display import display\n",
    "#import nbinteract as nbi\n",
    "import numpy as np\n",
    "\n",
    "import warnings\n",
    "warnings.filterwarnings('ignore')"
   ]
  },
  {
   "cell_type": "markdown",
   "metadata": {},
   "source": [
    "# Supply, Demand, and Equilibrium\n",
    "\n",
    "## Set-up\n",
    "\n",
    "With this notebook, we are going to plot and solve equations, hopefully giving some more hands on exposure to the materials that you've already seen in class. \n",
    "\n",
    "We have already covered \n",
    "- sympy\n",
    "- getting slope and intercept for deman curve\n",
    "- solving for equilibrium"
   ]
  },
  {
   "cell_type": "markdown",
   "metadata": {},
   "source": [
    "## Solving Equations with SymPy\n",
    "\n",
    "In order to treat variables like the symbols you would using pen and paper, we have to declare them as such first. We are going to use the inverse forms, so our equations will both be a function of quantity. We create a variable for quantity below."
   ]
  },
  {
   "cell_type": "code",
   "execution_count": 63,
   "metadata": {},
   "outputs": [],
   "source": [
    "Q = sympy.Symbol(\"Q\")"
   ]
  },
  {
   "cell_type": "markdown",
   "metadata": {},
   "source": [
    "Now when we call this variable, we can see that it is a symbolic variable, and not some other Python type."
   ]
  },
  {
   "cell_type": "markdown",
   "metadata": {},
   "source": [
    "We cn decplare an upward sloping supply curve with a name, `supply`."
   ]
  },
  {
   "cell_type": "code",
   "execution_count": null,
   "metadata": {},
   "outputs": [],
   "source": [
    "supply = 3*Q + 4\n",
    "supply"
   ]
  },
  {
   "cell_type": "markdown",
   "metadata": {},
   "source": [
    "We can then substitue in values for our quantity variable. We do so in the following cell. Using the method `subs`, we take the equation we already defined, `supply`, and plug in the value 3 in place of `Q`."
   ]
  },
  {
   "cell_type": "code",
   "execution_count": null,
   "metadata": {},
   "outputs": [],
   "source": [
    "supply.subs(Q, 3)"
   ]
  },
  {
   "cell_type": "markdown",
   "metadata": {},
   "source": [
    "Next we'll define an inverse-demand equation."
   ]
  },
  {
   "cell_type": "code",
   "execution_count": null,
   "metadata": {},
   "outputs": [],
   "source": [
    "demand = -4*Q+15\n",
    "demand"
   ]
  },
  {
   "cell_type": "markdown",
   "metadata": {},
   "source": [
    "We are now able to take our supply and demand equations and find where they intersect. When we use the `solve` function, it will tell us the x-value of the point where the two lines intercept. This is the equilibrium quantity, which we will call that value `Q_star`."
   ]
  },
  {
   "cell_type": "code",
   "execution_count": null,
   "metadata": {},
   "outputs": [],
   "source": [
    "Q_star = solve(demand, supply) # our version of solve is simplified for single solution systems\n",
    "Q_star"
   ]
  },
  {
   "cell_type": "markdown",
   "metadata": {},
   "source": [
    "We can then substitute `Q_star` back into our original inverse-supply and inverse-demand equations to solve for our equilibrium price."
   ]
  },
  {
   "cell_type": "code",
   "execution_count": null,
   "metadata": {},
   "outputs": [],
   "source": [
    "demand.subs(Q, Q_star)"
   ]
  },
  {
   "cell_type": "code",
   "execution_count": null,
   "metadata": {},
   "outputs": [],
   "source": [
    "supply.subs(Q, Q_star)"
   ]
  },
  {
   "cell_type": "markdown",
   "metadata": {},
   "source": [
    "## Visualizing those supply and demand equations"
   ]
  },
  {
   "cell_type": "code",
   "execution_count": null,
   "metadata": {},
   "outputs": [],
   "source": [
    "def plot_equation(equation, price_start, price_end, label=None):\n",
    "    plot_prices = [price_start, price_end]\n",
    "    plot_quantities = [equation.subs(list(equation.free_symbols)[0], c) for c in plot_prices]\n",
    "    plt.plot(plot_prices, plot_quantities, label=label)\n",
    "    \n",
    "def plot_intercept(eq1, eq2):\n",
    "    ex = sympy.solve(eq1-eq2)[0]\n",
    "    why = eq1.subs(list(eq1.free_symbols)[0], ex)\n",
    "    plt.scatter([ex], [why])\n",
    "    return (ex, why)\n",
    "    \n",
    "plot_equation(demand, 0, 5)\n",
    "plot_equation(supply, 0, 5)\n",
    "plt.ylim(0,20)\n",
    "plot_intercept(supply, demand)"
   ]
  },
  {
   "cell_type": "markdown",
   "metadata": {},
   "source": [
    "\n",
    "## Modeling a Shift in Demand\n",
    "We would like to be able to add in the ability to shift the demand curve, using a slider"
   ]
  },
  {
   "cell_type": "code",
   "execution_count": null,
   "metadata": {},
   "outputs": [],
   "source": [
    "\n",
    "def shift_demand():\n",
    "    equation = demand\n",
    "    def shift_helper(shift):\n",
    "        plot_equation(equation, -10, 10)\n",
    "        plot_equation(supply, -10, 10)\n",
    "        old = plot_intercept(equation, supply)\n",
    "        print('Original Intercept:', old)\n",
    "        \n",
    "        if shift != 0:\n",
    "            plot_equation(equation + shift, -10, 10, 'shifted')\n",
    "            new = plot_intercept(equation + shift, supply)\n",
    "            print('New intercept:', new)\n",
    "            print('Change in Quantity:', round(float(new[0]-old[0]), 2))\n",
    "            print('Change in Price:', round(float(new[1]-old[1]), 2))\n",
    "        else:\n",
    "            print('Nothing shifted yet, use the slider to move the line!')\n",
    "        plt.xlim(0,8)\n",
    "        plt.ylim(0,20)\n",
    "        plt.legend()\n",
    "        plt.ylabel(\"Price\")\n",
    "        plt.xlabel(\"Quantity\")\n",
    "    interact(shift_helper, shift=(-6, 12, 3))\n",
    "\n",
    "shift_demand()"
   ]
  },
  {
   "cell_type": "markdown",
   "metadata": {},
   "source": [
    "## Externalities\n",
    "Ok lets 'shift' the analysis to \n",
    "\n",
    "**Marginal Private Benefit (MPB)**\n",
    "The marginal private benefit (MPB) is the benefit that an individual or firm receives from consuming or producing an additional unit of a good or service. This benefit is internal to the consumer or producer and does not take into account any external costs or benefits that might affect others.\n",
    "\n",
    "In the case of consumption, the marginal private benefit is the value a consumer places on the next unit of a good, which typically decreases as more units are consumed (due to diminishing marginal utility). This is represented by the private demand curve, which shows the relationship between the quantity demanded and the price.\n",
    "\n",
    "For example:\n",
    "\n",
    "If you buy a textbook, the benefit you receive from reading it is the private benefit. You might be willing to pay a certain price for the book based on how much you value the knowledge it provides.\n",
    "\n",
    "**Marginal Social Benefit (MSB)**\n",
    "The marginal social benefit (MSB) is the total benefit to society from consuming or producing an additional unit of a good or service. It includes both the marginal private benefit and any external benefits (or subtracts external costs, in the case of negative externalities).\n",
    "\n",
    "When externalities exist, the marginal social benefit differs from the marginal private benefit. In the case of positive externalities, the MSB is greater than the MPB because the good or service provides additional benefits to third parties that are not captured by the individual consumer.\n",
    "\n",
    "For example:\n",
    "\n",
    "Education creates positive externalities. While the student receives private benefits from increased knowledge and skills (MPB), society as a whole also benefits from having a more educated population, leading to increased productivity, lower crime rates, and higher civic engagement. These additional benefits form the social benefit.\n",
    "In a competitive market without intervention, only the private benefits are considered, leading to under-consumption of goods with positive externalities. The market does not provide enough of the good relative to the socially optimal level because individuals do not account for the benefits that spill over to others.\n",
    "\n",
    "**Market Outcome vs. Socially Optimal Outcome**\n",
    "In the presence of a positive externality:\n",
    "\n",
    "The market outcome is determined by the intersection of the supply curve (marginal cost) and the private demand curve (MPB).\n",
    "However, the socially optimal outcome occurs at the intersection of the supply curve and the social demand curve (MSB), which lies above the private demand curve due to the external benefits."
   ]
  },
  {
   "cell_type": "markdown",
   "metadata": {},
   "source": [
    "Let's do a simpler version where we just solve the following :\n",
    "\\begin{align*}\n",
    "    \\text{Private Demand (MPB)}: & \\quad P = 100 - 0.3Q \\\\\n",
    "    \\text{Social Demand (MSB)}: & \\quad P = (100 + \\text{Externality Shift}) - 0.3Q \\\\\n",
    "    \\text{Supply (MC)}: & \\quad P = 10 + 0.2Q\\\\\n",
    "    \\text {Where}: & \\quad \\text{Externality Shift} = +10\\\\\n",
    "\\end{align*}\n",
    "\n"
   ]
  },
  {
   "cell_type": "code",
   "execution_count": 72,
   "metadata": {},
   "outputs": [],
   "source": [
    "def private_demand(q):\n",
    "    return 100 - 0.3 * q  \n",
    "\n",
    "def social_demand(q):\n",
    "    return 110 - 0.3 * q  \n",
    "\n",
    "def supply(q):\n",
    "    return 10 + 0.2 * q  \n",
    "\n",
    "market_quantity = (100 - 10) / (0.2 + 0.3)  \n",
    "optimal_quantity = (110 - 10) / (0.2 + 0.3)  "
   ]
  },
  {
   "cell_type": "code",
   "execution_count": null,
   "metadata": {},
   "outputs": [],
   "source": [
    "\n",
    "quantities = np.linspace(0, 300, 500)\n",
    "\n",
    "#Plotting\n",
    "plt.figure(figsize=(6, 6))\n",
    "plt.plot(quantities, private_demand(quantities), label='Private Demand (MPB)', color='green')\n",
    "plt.plot(quantities, social_demand(quantities), label='Social Demand (MSB)', color='purple', linestyle='--')\n",
    "plt.plot(quantities, supply(quantities), label='Supply (MC)', color='blue')\n",
    "\n",
    "plt.axvline(market_quantity, color='green', linestyle='--', label='Market Quantity')\n",
    "plt.axvline(optimal_quantity, color='purple', linestyle='--', label='Optimal Quantity')\n",
    "\n",
    "plt.fill_between(quantities, private_demand(quantities), social_demand(quantities), where=(quantities <= optimal_quantity), color='lightblue', alpha=0.3)\n",
    "\n",
    "plt.title('Positive Externality: Demand Curve')\n",
    "plt.xlabel('Quantity')\n",
    "plt.ylabel('Price')\n",
    "plt.legend()\n",
    "plt.grid(True)\n",
    "plt.show()\n",
    "\n"
   ]
  },
  {
   "cell_type": "markdown",
   "metadata": {},
   "source": [
    "Let's do an interactive version where we solve the following with a variable externality :\n",
    "\\begin{align*}\n",
    "    \\text{Private Demand (MPB)}: & \\quad P = 100 - 0.3Q \\\\\n",
    "    \\text{Social Demand (MSB)}: & \\quad P = (100 + \\text{Externality Shift}) - 0.3Q \\\\\n",
    "    \\text{Supply (MC)}: & \\quad P = 10 + 0.2Q\n",
    "\\end{align*}\n"
   ]
  },
  {
   "cell_type": "code",
   "execution_count": null,
   "metadata": {},
   "outputs": [],
   "source": [
    "#Everything is wrapped in a function that the slider can interact with\n",
    "\n",
    "def plot_externality(externality_shift):\n",
    "    def social_demand(q):\n",
    "        return (100 + externality_shift) - 0.3 * q  # Marginal Social Benefit (MSB)\n",
    "\n",
    "#Hard coded values for Equilibrium from solving Demand and Supply\n",
    "    market_quantity = (100 - 10) / (0.2 + 0.3) \n",
    "    optimal_quantity = ((100 + externality_shift) - 10) / (0.2 + 0.3) \n",
    "    \n",
    "    market_price = private_demand(market_quantity)\n",
    "    optimal_price = social_demand(optimal_quantity)\n",
    "\n",
    "#Plotting    \n",
    "    plt.figure(figsize=(8, 6))\n",
    "    plt.plot(quantities, private_demand(quantities), color='green')\n",
    "    plt.plot(quantities, social_demand(quantities), color='purple', linestyle='--')\n",
    "    plt.plot(quantities, supply(quantities), color='blue')\n",
    "\n",
    "    plt.axvline(market_quantity, color='green', linestyle='--', label=f'Market Quantity: {market_quantity:.2f}')\n",
    "    plt.axvline(optimal_quantity, color='purple', linestyle='--', label=f'Social Quantity: {optimal_quantity:.2f}')\n",
    "\n",
    "    plt.axhline(market_price, color='green', linestyle='--', label=f'Market Price: {market_price:.2f}')\n",
    "    plt.axhline(optimal_price, color='purple', linestyle='--', label=f'Social Price: {optimal_price:.2f}')\n",
    "\n",
    "  \n",
    "    plt.fill_between(quantities, private_demand(quantities), social_demand(quantities), where=(quantities <= optimal_quantity), color='lightblue', alpha=0.3)\n",
    "\n",
    "#Labels on demand\n",
    "    plt.text(300, private_demand(300) + 2, 'Marginal Private Benefit (MPB)', color='green', fontsize=12)\n",
    "    plt.text(300, social_demand(300) + 2, 'Marginal Social Benefit (MSB)', color='purple', fontsize=12)\n",
    "#Labels on supply \n",
    "    plt.text(300, supply(300) + 2, 'Supply ', color='blue', fontsize=12)\n",
    "\n",
    "  \n",
    "    plt.title(f' Externality: Externality Shift = {externality_shift}')\n",
    "    plt.xlabel('Quantity')\n",
    "    plt.ylabel('Price')\n",
    "    plt.legend()\n",
    "    plt.grid(True)\n",
    "    plt.show()\n",
    "\n",
    "#Slider for externality shift\n",
    "interact(plot_externality, externality_shift=widgets.IntSlider(min=-20, max=20, step=1, value=10, description=\"Externality Shift\"));\n"
   ]
  },
  {
   "cell_type": "markdown",
   "metadata": {},
   "source": [
    "## Consumer and Producer Surplus"
   ]
  },
  {
   "cell_type": "code",
   "execution_count": null,
   "metadata": {},
   "outputs": [],
   "source": [
    "import numpy as np\n",
    "import matplotlib.pyplot as plt\n",
    "import sympy\n",
    "from sympy import symbols\n",
    "import matplotlib.patches as patches\n",
    "\n",
    "# Define the quantity symbol for sympy\n",
    "Q = symbols('Q')\n",
    "\n",
    "# Simplified Equilibrium function with a range of quantities\n",
    "def Equilibrium(demandParam, supplyParam):\n",
    "    # Define demand and supply equations as functions of quantity\n",
    "    demandEquation = demandParam - Q  # P = demandParam - Q\n",
    "    supplyEquation = (supplyParam / 10) * Q  # P = (supplyParam / 10) * Q\n",
    "    \n",
    "    # Convert the sympy equations to numerical functions using lambdify\n",
    "    demandFunc = sympy.lambdify(Q, demandEquation, \"numpy\")\n",
    "    supplyFunc = sympy.lambdify(Q, supplyEquation, \"numpy\")\n",
    "    \n",
    "    # Define a fixed range of quantities (from 0 to 100)\n",
    "    quantities = np.linspace(0, 50, 50)\n",
    "    \n",
    "    # Calculate corresponding prices for each quantity for demand and supply\n",
    "    demandPrices = demandFunc(quantities)  # Evaluate demand prices as numerical values\n",
    "    supplyPrices = supplyFunc(quantities)  # Evaluate supply prices as numerical values\n",
    "\n",
    "    # Find the equilibrium quantity by solving where demand equals supply\n",
    "    equilibriumQ = sympy.solve(demandEquation - supplyEquation, Q)[0]\n",
    "    equilibriumP = demandEquation.subs(Q, equilibriumQ)\n",
    "    \n",
    "    # Convert equilibrium values to float for plotting\n",
    "    equilibriumQ = float(equilibriumQ)\n",
    "    equilibriumP = float(equilibriumP)\n",
    "    \n",
    "    # Plot demand and supply curves\n",
    "    plt.plot(quantities, demandPrices, label=\"Demand (MPB)\", color=\"green\")\n",
    "    plt.plot(quantities, supplyPrices, label=\"Supply (MC)\", color=\"blue\")\n",
    "    \n",
    "    # Mark equilibrium point\n",
    "    plt.plot(equilibriumQ, equilibriumP, 'ro', label=f\"Equilibrium Q={round(equilibriumQ, 2)}, P={round(equilibriumP, 2)}\")\n",
    "    \n",
    "    # Shade consumer and producer surplus\n",
    "    triangle1 = patches.Polygon([[0, equilibriumP], [equilibriumQ, equilibriumP], [0, demandFunc(0)]], True, color=\"green\", alpha=0.3)\n",
    "    triangle2 = patches.Polygon([[0, equilibriumP], [equilibriumQ, equilibriumP], [0, 0]], True, color=\"red\", alpha=0.3)\n",
    "    currentAxis = plt.gca()\n",
    "    currentAxis.add_patch(triangle1)\n",
    "    currentAxis.add_patch(triangle2)\n",
    "    \n",
    "    # Add labels and legend\n",
    "    plt.xlabel(\"Quantity\")\n",
    "    plt.ylabel(\"Price\")\n",
    "    plt.xlim(0, 50)  # Fixed quantity range from 0 to 100\n",
    "    plt.ylim(0, max(demandPrices))  # Set y-limits based on demand prices\n",
    "    plt.legend()\n",
    "    plt.grid(True)\n",
    "    \n",
    "    # Display plot\n",
    "    plt.show()\n",
    "    \n",
    "    # Print equilibrium information\n",
    "    print(f\"The equilibrium price is {round(float(equilibriumP), 2)} and equilibrium quantity is {round(float(equilibriumQ), 2)}.\")\n",
    "    print(f\"The consumer surplus at this equilibrium is {(demandFunc(0) - equilibriumP) * equilibriumQ * 0.5}\")\n",
    "    print(f\"The producer surplus at this equilibrium is {(equilibriumP * equilibriumQ) * 0.5}\")\n",
    "\n",
    "# Example usage\n",
    "Equilibrium(demandParam=50, supplyParam=20)\n",
    "\n"
   ]
  },
  {
   "cell_type": "code",
   "execution_count": null,
   "metadata": {},
   "outputs": [],
   "source": [
    "import sympy\n",
    "import matplotlib.pyplot as plt\n",
    "import matplotlib.patches as patches\n",
    "p = sympy.Symbol(\"p\")\n",
    "def Equilibrium(demandParam, supplyParam, priceStart):\n",
    "    demandEquation = demandParam - p\n",
    "    # change the slope\n",
    "    supplyEquation = p * (supplyParam/10)\n",
    "    priceEnd = sympy.solve(demandEquation)[0]\n",
    "    prices = []\n",
    "    demandQ = []\n",
    "    supplyQ = []\n",
    "    for price in range(priceStart,priceEnd+1):\n",
    "        prices += [price]\n",
    "        demandQ += [demandEquation.subs(p,price)]\n",
    "        supplyQ += [supplyEquation.subs(p,price)]\n",
    "    \n",
    "    equilibriumP = sympy.solve(demandEquation-supplyEquation)[0]\n",
    "    equilibriumQ = demandEquation.subs(p,equilibriumP)\n",
    "    \n",
    "    \n",
    "    \n",
    "    triangle1 = patches.Polygon([[equilibriumQ,equilibriumP],[0,equilibriumP],[0,priceEnd]],True,color=\"green\")\n",
    "    triangle2 = patches.Polygon([[equilibriumQ,equilibriumP],[0,equilibriumP],[0,0]],True,color=\"red\")\n",
    "    currentAxis = plt.gca()\n",
    "    currentAxis.add_patch(triangle1)\n",
    "    currentAxis.add_patch(triangle2)\n",
    "    \n",
    "    plt.plot(demandQ,prices)\n",
    "    plt.plot(supplyQ,prices)\n",
    "    plt.legend([\"Demand\",\"Supply\"])\n",
    "    plt.plot(equilibriumQ,equilibriumP, 'ro')\n",
    "    plt.xlabel(\"Supply and Demand Quantity\")\n",
    "    plt.ylabel(\"Price\")\n",
    "    plt.ylim(0, 15)\n",
    "    plt.xlim(0, 10)\n",
    "    plt.show()\n",
    "    print(\"The equilibrium price is \"+str(round(equilibriumP,2))+\" and equilibrium quantity is \"+str(round(equilibriumQ,2))+\".\")\n",
    "    print(\"The consumer surplus at this equilibrium \"+str((priceEnd-equilibriumP)*(equilibriumQ)*.5))\n",
    "    print(\"The producer surplus at this equilibrium \"+str((equilibriumP)*(equilibriumQ)*.5))\n",
    "\n",
    "\n",
    "# you can change the range here\n",
    "slider1 = widgets.IntSlider(min=5, max=15,step=1,value=10, description=\"Demand Intercept\")\n",
    "slider2 = widgets.IntSlider(min=1, max=20,step=1,value=10, description=\"Supply Slope\")\n",
    "slider3 = widgets.IntSlider(min=-5, max=5,step=1,value=0)\n",
    "\n",
    "# Add additional text using widgets.Label or widgets.HTML\n",
    "text_before = widgets.HTML(\n",
    "    value=\"<h3>Equilibrium Simulation</h3><p>This interactive simulation allows you to explore the equilibrium price and quantity based on different demand and supply parameters.</p>\"\n",
    ")\n",
    "\n",
    "text_after = widgets.HTML(\n",
    "    value=\"<p>Adjust the <b>Demand Param</b> and <b>Supply Param</b> sliders to change the shape of the curves, and observe how the equilibrium changes.</p>\"\n",
    ")\n",
    "\n",
    "# Display all elements together\n",
    "ui = widgets.VBox([text_before, slider1, slider2, slider3, text_after])\n",
    "out = widgets.interactive_output(Equilibrium, {'demandParam': slider1, 'supplyParam': slider2, 'priceStart': slider3})\n",
    "\n",
    "display(ui, out)"
   ]
  },
  {
   "cell_type": "markdown",
   "metadata": {},
   "source": [
    "## Effects of Taxes "
   ]
  },
  {
   "cell_type": "code",
   "execution_count": 60,
   "metadata": {},
   "outputs": [],
   "source": [
    "def eqSolve(eq1,eq2,tax):\n",
    "    demandP = sympy.solve(eq1-q,p)[0]\n",
    "    supplyP = sympy.solve(eq2-q,p)[0]\n",
    "    demandP = demandP-cTax\n",
    "    supplyP = supplyP+pTax\n",
    "\n",
    "    demandQ = sympy.solve(demandP-p,q)[0]\n",
    "    supplyQ = sympy.solve(supplyP-p,q)[0]\n",
    "    \n",
    "    return sympy.solve((demandP-supplyP, demandQ-supplyQ,tax-cTax-pTax), q,p,cTax,pTax)[q]"
   ]
  },
  {
   "cell_type": "code",
   "execution_count": null,
   "metadata": {},
   "outputs": [],
   "source": [
    "\n",
    "p = sympy.Symbol(\"p\")\n",
    "q = sympy.Symbol(\"q\")\n",
    "cTax = sympy.Symbol(\"cTax\")\n",
    "pTax = sympy.Symbol(\"pTax\")\n",
    "\n",
    "def EquilibriumTax(demandParam,supplyParam,priceStart,priceEnd,tax):\n",
    "    demandEquation = demandParam - p\n",
    "    supplyEquation = p * (supplyParam/10)\n",
    "    prices = []\n",
    "    demand = []\n",
    "    supply = []\n",
    "    for price in range(priceStart,priceEnd+1):\n",
    "        prices += [price]\n",
    "        demand += [demandEquation.subs(p,price)]\n",
    "        supply += [supplyEquation.subs(p,price)]\n",
    "        \n",
    "    \n",
    "    \n",
    "    nonTaxPrice = sympy.solve(demandEquation-supplyEquation)[0]\n",
    "    nonTaxQ = demandEquation.subs(p,nonTaxPrice)\n",
    "\n",
    "    \n",
    "    equilibriumQ = eqSolve(demandEquation,supplyEquation,tax)\n",
    "    equilibriumP1 = sympy.solve(demandEquation-equilibriumQ)[0]\n",
    "    equilibriumP2 = sympy.solve(supplyEquation-equilibriumQ)[0]\n",
    "    \n",
    "    triangle1 = patches.Polygon([[nonTaxQ,nonTaxPrice],[equilibriumQ,nonTaxPrice],[equilibriumQ,equilibriumP1]],True,color=\"green\")\n",
    "    triangle2 = patches.Polygon([[nonTaxQ,nonTaxPrice],[equilibriumQ,nonTaxPrice],[equilibriumQ,equilibriumP2]],True)\n",
    "    currentAxis = plt.gca()\n",
    "    currentAxis.add_patch(triangle1)\n",
    "    currentAxis.add_patch(triangle2)\n",
    "    \n",
    "    \n",
    "    rect1 = patches.Rectangle((0,nonTaxPrice),equilibriumQ,equilibriumP1-nonTaxPrice,linewidth=1,facecolor=\"red\")\n",
    "    rect2 = patches.Rectangle((0,nonTaxPrice),equilibriumQ,equilibriumP2-nonTaxPrice,linewidth=1,facecolor=\"yellow\")\n",
    "    currentAxis.add_patch(rect1)\n",
    "    currentAxis.add_patch(rect2)\n",
    "    \n",
    "    plt.plot(demand,prices)\n",
    "    plt.plot(supply,prices)\n",
    "    \n",
    "    \n",
    "    plt.legend([rect1,rect2,triangle1,triangle2], [\"Consumer Tax\",\"Producer Tax\",\"Consumer Deadweight Loss\",\"Producer Deadweight Loss\"])\n",
    "    plt.plot(equilibriumQ,equilibriumP1, 'ro')\n",
    "    plt.plot(equilibriumQ,equilibriumP2, 'ro')\n",
    "    plt.xlabel(\"Supply and Demand Quantity\")\n",
    "    plt.ylabel(\"Price\")\n",
    "    plt.ylim(0, 15)\n",
    "    plt.xlim(0, 10)\n",
    "    plt.show()\n",
    "    print(\"Without Tax - the equilibrium price is \"+str(round(nonTaxPrice,2))+\" and equilibrium quantity is \"+str(round(nonTaxQ,2)))\n",
    "    print(\"With Tax - Price paid by consumers is \"+str(equilibriumP1)+\" Price received by suppliers is \"+str(round(equilibriumP2,2))+\" and equilibrium quantity is \"+str(equilibriumQ)+\".\")\n",
    "    print(\"Taxes raised from consumers equals \"+str(round(equilibriumQ*(equilibriumP1-nonTaxPrice),2)))\n",
    "    print(\"Taxes raised from producers equals \"+str(round(equilibriumQ*(nonTaxPrice-equilibriumP2),2)))\n",
    "    print(\"Total taxes raised equals \"+str(equilibriumQ*tax))\n",
    "\n",
    "slider1 = widgets.IntSlider(min=5, max=15,step=1,value=10)\n",
    "slider2 = widgets.IntSlider(min=1, max=20,step=1,value=10)\n",
    "slider3 = widgets.IntSlider(min=-5, max=5,step=1,value=0)\n",
    "slider4 = widgets.IntSlider(min=5, max=20,step=1,value=10)\n",
    "slider5 = widgets.IntSlider(min=0, max=8,step=1,value=4)\n",
    "display(widgets.interactive(EquilibriumTax, demandParam=slider1, supplyParam=slider2, priceStart=slider3, priceEnd=slider4, tax=slider5))"
   ]
  },
  {
   "cell_type": "markdown",
   "metadata": {},
   "source": [
    "## Shifts in Demand and Supply and Incidence of Tax\n",
    "In this graph the second line with the suppply plus tax is not graphed but the new equilibrium point is. "
   ]
  },
  {
   "cell_type": "markdown",
   "metadata": {},
   "source": [
    "## Question 3.1 -  Demand Shift - Intercept Slider\n",
    "Shift the Demand Parameter - This slider is only shifting the intercept which leads to a parrallel shift in Demand. What happens to the amount of tax paid  as demand shifts out.  What happens to the ratio of tax paid from Consumer Surplus to Producer Surplus?"
   ]
  },
  {
   "cell_type": "markdown",
   "metadata": {},
   "source": [
    "....  Type your answer in here"
   ]
  },
  {
   "cell_type": "markdown",
   "metadata": {},
   "source": [
    "## Question 3.2 - Supply Shift - Slope Slider\n",
    "Shift the Supply Parameter - This slider is shifting the slope which leads to a change in the steepness of the Supply curve. What happens to the amount of Consumer Surplus as supply becomes steeper?  What happens to the tax incidence - the ratio of tax coming from Consumer Surplus vs. Producer Surplus?"
   ]
  },
  {
   "cell_type": "markdown",
   "metadata": {},
   "source": [
    "....  Type your answer in here"
   ]
  },
  {
   "cell_type": "markdown",
   "metadata": {},
   "source": [
    "## Question 3.3 - Tax Shift - \n",
    "Shift the Tax Parameter - This slider is increasing or decreasing the amount of tax. \n",
    "\n",
    "Is it affecting the slope or the intercept? \n",
    "\n",
    "An increase in tax leads to and increase in the price paid by consumers. In this case how much does a given tax lead to an increase in price?\n",
    "\n",
    "\n",
    "When shifting the tax alone - how does the incidence of tax between producers and consumers change?\n",
    "\n"
   ]
  },
  {
   "cell_type": "markdown",
   "metadata": {},
   "source": [
    "....  Type your answer in here"
   ]
  },
  {
   "cell_type": "markdown",
   "metadata": {},
   "source": []
  },
  {
   "cell_type": "markdown",
   "metadata": {},
   "source": []
  }
 ],
 "metadata": {
  "kernelspec": {
   "display_name": "base",
   "language": "python",
   "name": "python3"
  },
  "language_info": {
   "codemirror_mode": {
    "name": "ipython",
    "version": 3
   },
   "file_extension": ".py",
   "mimetype": "text/x-python",
   "name": "python",
   "nbconvert_exporter": "python",
   "pygments_lexer": "ipython3",
   "version": "3.8.15"
  }
 },
 "nbformat": 4,
 "nbformat_minor": 4
}
