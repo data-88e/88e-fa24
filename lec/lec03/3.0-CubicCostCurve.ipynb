{
 "cells": [
  {
   "cell_type": "markdown",
   "id": "32846e31-64d3-4493-b3ce-c778045b2bcd",
   "metadata": {},
   "source": [
    "<table style=\"width: 100%;\">\n",
    "    <tr style=\"background-color: transparent;\"><td>\n",
    "        <img src=\"https://data-88e.github.io/assets/images/blue_text.png\" width=\"250px\" style=\"margin-left: 0;\" />\n",
    "    </td><td>\n",
    "        <p style=\"text-align: right; font-size: 10pt;\"><strong>Economic Models</strong>, Fall 2024<br>\n",
    "            Dr. Eric Van Dusen <br>\n",
    "        Shashank Dalmia, Ergun Acikoz</p></td></tr>\n",
    "</table>"
   ]
  },
  {
   "cell_type": "code",
   "execution_count": null,
   "id": "12dd2550",
   "metadata": {},
   "outputs": [],
   "source": [
    "try: \n",
    "    from csaps import csaps\n",
    "except:\n",
    "    !pip install csaps\n",
    "    from csaps import csaps"
   ]
  },
  {
   "cell_type": "code",
   "execution_count": null,
   "id": "88989220-7a6d-4832-9360-f7f3daf6e463",
   "metadata": {},
   "outputs": [],
   "source": [
    "import sympy as sp\n",
    "import matplotlib.pyplot as plt\n",
    "import numpy as np\n",
    "from ipywidgets import interact, widgets\n",
    "from datascience import *\n",
    "%matplotlib inline\n",
    "from csaps import csaps"
   ]
  },
  {
   "cell_type": "markdown",
   "id": "25095df3-68e1-4835-a457-82756f2dcbd4",
   "metadata": {},
   "source": [
    "# Cubic Cost Functions\n",
    "\n",
    "The cubic cost function is one that is commonly used to model a cost function within a firm.  \n",
    "\n",
    "This notebook uses parameters from a recent article  with some parameters for the cubic cost function, in a journal on Teaching Applied Economics\n",
    "\n",
    ">\"Tractable Cubic Cost Functions for Teaching Microeconomics\"\n",
    ">June 21,2023; Applied Economics Teaching Resources (AETR);\n",
    ">Scott M. Swinton and Hanzhe Zhang\n",
    "\n",
    "https://www.aaea.org/UserFiles/file/AETR_2021_003RProofFinal.pdf\n",
    "\n",
    "- d=3600\n",
    "- c=177\n",
    "- b=-15\n",
    "- a=0.5\n",
    "\n",
    "Let's use these as starting values but then use widgets to allow us to play with the parameters!"
   ]
  },
  {
   "cell_type": "code",
   "execution_count": null,
   "id": "abcf84c0-b80d-4524-8042-2545ece82c25",
   "metadata": {},
   "outputs": [],
   "source": [
    "# Define the variables and parameters\n",
    "q = sp.symbols('q')  # Quantity of goods produced\n",
    "\n",
    "# Define the cubic cost function\n",
    "a = widgets.FloatSlider(value=0.5, min=0, max=1, step=0.01, description='a')\n",
    "b = widgets.FloatSlider(value=-15, min=-30, max=30, step=1, description='b')\n",
    "c = widgets.FloatSlider(value=177.0, min=0, max=250, step=5, description='c')\n",
    "d = widgets.FloatSlider(value=3600, min=0, max=10000, step=100, description='d')\n",
    "\n",
    "def plot_cubic_cost_function(a, b, c, d):\n",
    "    cost_function = a * q**3 + b * q**2 + c * q + d\n",
    "\n",
    "    cost_function_np = sp.lambdify(q, cost_function, 'numpy')\n",
    "\n",
    "    quantity_values = np.linspace(0, 25, 100)\n",
    "    cost_values = cost_function_np(quantity_values)\n",
    "\n",
    "    plt.figure(figsize=(8, 6))\n",
    "    plt.plot(quantity_values, cost_values, label='Cost Function', color='blue')\n",
    "    plt.xlabel('Quantity Produced')\n",
    "    plt.ylabel('Cost')\n",
    "    plt.title('Cubic Cost Function')\n",
    "    plt.legend()\n",
    "    plt.grid(True)\n",
    "    plt.show()\n",
    "\n",
    "interact(plot_cubic_cost_function, a=a, b=b, c=c, d=d)"
   ]
  },
  {
   "cell_type": "markdown",
   "id": "1930b693",
   "metadata": {},
   "source": [
    "##  Great - we can make a cost function that displays the model characteristics that we want \n",
    "**Now let's go ahead and make an table from the Function**\n",
    "\n",
    "We can use Sympy and get a Numpy version of the equation as well "
   ]
  },
  {
   "cell_type": "code",
   "execution_count": null,
   "id": "e6adc294",
   "metadata": {},
   "outputs": [],
   "source": [
    "q = sp.symbols('q') \n",
    "cost_function = a * q**3 + b * q**2 + c * q + d\n",
    "\n",
    "\n",
    "# You dont know how to do this but we can also convert the SymPy expression to a numpy function\n",
    "cost_function_np = sp.lambdify(q, cost_function, 'numpy')\n"
   ]
  },
  {
   "cell_type": "markdown",
   "id": "5fb3a855",
   "metadata": {},
   "source": [
    "Le'ts make the model  by specifying those cubic parameters that we did in the last section "
   ]
  },
  {
   "cell_type": "code",
   "execution_count": null,
   "id": "faabd303",
   "metadata": {},
   "outputs": [],
   "source": [
    "d=2000\n",
    "c=177\n",
    "b=-15\n",
    "a=0.5"
   ]
  },
  {
   "cell_type": "code",
   "execution_count": null,
   "id": "a475aeac",
   "metadata": {},
   "outputs": [],
   "source": [
    "quantity_values = np.linspace(0, 30, 16)  # Levels of Q from 0 to 20\n",
    "quantity_values"
   ]
  },
  {
   "cell_type": "code",
   "execution_count": null,
   "id": "6ab09fde",
   "metadata": {},
   "outputs": [],
   "source": [
    "total_costs = cost_function_np(quantity_values)"
   ]
  },
  {
   "cell_type": "code",
   "execution_count": null,
   "id": "f6da5ca3-c2a8-4e6a-b95b-d1da1df0f0ac",
   "metadata": {},
   "outputs": [],
   "source": [
    "\n",
    "cost_table = Table().with_columns(\n",
    "    'Quantity-Q', quantity_values,\n",
    "    'Fixed Costs-FC', d,\n",
    "    'Total Costs-TC', total_costs\n",
    ")\n",
    "cost_table"
   ]
  },
  {
   "cell_type": "code",
   "execution_count": null,
   "id": "0f8d29b4-eda4-467b-b420-4185f1dd3337",
   "metadata": {},
   "outputs": [],
   "source": [
    "total_variable_cost = cost_table.column(\"Total Costs-TC\") - cost_table.column('Fixed Costs-FC')\n",
    "total_variable_cost"
   ]
  },
  {
   "cell_type": "code",
   "execution_count": null,
   "id": "3e450ae3-d427-47cf-9cf2-72c3fb374eac",
   "metadata": {},
   "outputs": [],
   "source": [
    "cost_table = cost_table.with_column(\"Total Variable Cost-TVC\", total_variable_cost)\n",
    "cost_table"
   ]
  },
  {
   "cell_type": "code",
   "execution_count": null,
   "id": "dfcb0714-7cb4-45ce-b50f-52f3a8a47d4e",
   "metadata": {},
   "outputs": [],
   "source": [
    "average_total_cost = cost_table.column(\"Total Costs-TC\") / cost_table.column(\"Quantity-Q\")\n",
    "average_total_cost[0] = 0\n",
    "average_total_cost\n"
   ]
  },
  {
   "cell_type": "code",
   "execution_count": null,
   "id": "f8055483-52c5-455d-8ab7-50d632d2fa9c",
   "metadata": {},
   "outputs": [],
   "source": [
    "cost_table = cost_table.with_column(\"Average Total Cost-ATC\", average_total_cost)\n",
    "cost_table"
   ]
  },
  {
   "cell_type": "code",
   "execution_count": null,
   "id": "f1c7c44f-793f-4060-8f25-b3a3f084dba6",
   "metadata": {},
   "outputs": [],
   "source": [
    "average_variable_cost = cost_table.column(\"Total Variable Cost-TVC\") / cost_table.column(\"Quantity-Q\")\n",
    "average_variable_cost[0] = 0\n",
    "\n",
    "cost_table = cost_table.with_column(\"Average Variable Cost-AVC\", average_variable_cost)\n",
    "cost_table"
   ]
  },
  {
   "cell_type": "code",
   "execution_count": null,
   "id": "2db62b68-ff69-428a-b156-9599418745de",
   "metadata": {},
   "outputs": [],
   "source": [
    "average_fixed_cost = cost_table.column(\"Fixed Costs-FC\") / cost_table.column(\"Quantity-Q\")\n",
    "average_fixed_cost[0] = 0\n",
    "\n",
    "cost_table = cost_table.with_column(\"Average Fixed Cost-AFC\", average_fixed_cost)\n",
    "cost_table"
   ]
  },
  {
   "cell_type": "markdown",
   "id": "553bd1be-4d60-4490-9103-0d81d14dbeb7",
   "metadata": {
    "tags": []
   },
   "source": [
    "## And Finally Marginal Costs"
   ]
  },
  {
   "cell_type": "code",
   "execution_count": null,
   "id": "c200d935-bf42-454f-9aef-167bf9cd64bf",
   "metadata": {},
   "outputs": [],
   "source": [
    "marginal_cost = np.diff(total_costs)\n",
    "marginal_cost = np.append(make_array(0), marginal_cost)\n",
    "marginal_cost"
   ]
  },
  {
   "cell_type": "code",
   "execution_count": null,
   "id": "4c0f34a6-6619-412f-94fe-474b284e095d",
   "metadata": {},
   "outputs": [],
   "source": [
    "cost_table = cost_table.with_column(\"Marginal Cost\", marginal_cost)\n",
    "cost_table"
   ]
  },
  {
   "cell_type": "code",
   "execution_count": null,
   "id": "87dd3757-ec87-4448-b92a-5e973dcfba38",
   "metadata": {},
   "outputs": [],
   "source": []
  },
  {
   "cell_type": "code",
   "execution_count": null,
   "id": "7720256d-3dc3-406a-afdb-0ee3a80b252c",
   "metadata": {},
   "outputs": [],
   "source": [
    "plt.plot(cost_table.column(\"Quantity-Q\"), cost_table.column(\"Fixed Costs-FC\"), marker='o')\n",
    "plt.plot(cost_table.column(\"Quantity-Q\"), cost_table.column(\"Total Variable Cost-TVC\"), marker='o')\n",
    "plt.plot(cost_table.column(\"Quantity-Q\"), cost_table.column(\"Total Costs-TC\"), marker='o')\n",
    "plt.xlabel('Quantity')\n",
    "plt.ylabel('Cost')\n",
    "plt.title('TFC, TVC and TC')\n",
    "plt.legend(make_array(\"Total Fixed Cost\",\"Total Variable Cost\",\"Total Cost\"))\n",
    "\n",
    "plt.show()"
   ]
  },
  {
   "cell_type": "code",
   "execution_count": null,
   "id": "bf430f26-324d-41c6-856d-690561b6fbe3",
   "metadata": {},
   "outputs": [],
   "source": [
    "plt.plot(cost_table.column(\"Quantity-Q\")[1:], cost_table.column(\"Average Fixed Cost-AFC\")[1:], marker='o')\n",
    "plt.plot(cost_table.column(\"Quantity-Q\")[1:], cost_table.column(\"Average Variable Cost-AVC\")[1:], marker='o')\n",
    "plt.plot(cost_table.column(\"Quantity-Q\")[1:], cost_table.column(\"Average Total Cost-ATC\")[1:], marker='o')\n",
    "plt.xlabel('Quantity')\n",
    "plt.ylabel('Cost')\n",
    "plt.title('AFC, AVC and ATC')\n",
    "plt.legend(make_array(\"Average Fixed Cost\",\"Average Variable Cost\",\"Average Total Cost\"))\n",
    "\n",
    "plt.show()"
   ]
  },
  {
   "cell_type": "code",
   "execution_count": null,
   "id": "083079ec-8658-4b5a-8a3e-03b36b44fb18",
   "metadata": {},
   "outputs": [],
   "source": [
    "# You do not need to understand what the code below is doing. \n",
    "output = cost_table.column(\"Quantity-Q\")[1:]\n",
    "mc = cost_table.column(\"Marginal Cost\")[1:]\n",
    "avc = cost_table.column(\"Average Variable Cost-AVC\")[1:]\n",
    "atc = cost_table.column(\"Average Total Cost-ATC\")[1:]\n",
    "\n",
    "sp_mc = csaps(output, mc, smooth=0.85)\n",
    "sp_avc = csaps(output, avc, smooth=0.85)\n",
    "sp_atc = csaps(output, atc, smooth=0.85)\n",
    "\n",
    "output_s = np.linspace(output.min(), output.max(), 150)\n",
    "mc_s = sp_mc(output_s)\n",
    "avc_s = sp_avc(output_s)\n",
    "atc_s = sp_atc(output_s)\n",
    "\n",
    "plt.plot(output, mc, marker = 'o', color = 'tab:blue')\n",
    "plt.plot(output_s, mc_s, alpha=0.7, lw = 2, label='_nolegend_', color = 'tab:blue')\n",
    "plt.plot(output, avc, marker = 'o', color = 'tab:green')\n",
    "plt.plot(output_s, avc_s, alpha=0.7, lw = 2, label='_nolegend_', color = 'tab:green')\n",
    "plt.plot(output, atc, marker = 'o', color = 'tab:orange')\n",
    "plt.plot(output_s, atc_s, alpha=0.7, lw = 2, label='_nolegend_', color = 'tab:orange')\n",
    "plt.hlines(y=min(avc), xmin = 11.5, xmax = 13, lw=3, color='r', zorder = 10)\n",
    "plt.hlines(y=min(atc), xmin = 16, xmax = 18, lw=3, color='r', zorder = 10)\n",
    "plt.xlabel('Quantity')\n",
    "plt.ylabel('Cost')\n",
    "plt.title('MC, AVC and ATC')\n",
    "plt.legend(make_array(\"Marginal Cost\",\"Average Variable Cost\",\"Average Total Cost\"))\n",
    "\n",
    "plt.show()"
   ]
  },
  {
   "cell_type": "code",
   "execution_count": null,
   "id": "b4f22159",
   "metadata": {},
   "outputs": [],
   "source": []
  }
 ],
 "metadata": {
  "kernelspec": {
   "display_name": "base",
   "language": "python",
   "name": "python3"
  },
  "language_info": {
   "codemirror_mode": {
    "name": "ipython",
    "version": 3
   },
   "file_extension": ".py",
   "mimetype": "text/x-python",
   "name": "python",
   "nbconvert_exporter": "python",
   "pygments_lexer": "ipython3",
   "version": "3.8.15"
  }
 },
 "nbformat": 4,
 "nbformat_minor": 5
}
